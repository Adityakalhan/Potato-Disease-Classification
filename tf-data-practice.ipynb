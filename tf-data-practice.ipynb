{
 "cells": [
  {
   "cell_type": "code",
   "execution_count": 43,
   "id": "34a7c559",
   "metadata": {},
   "outputs": [],
   "source": [
    "import tensorflow as tf"
   ]
  },
  {
   "cell_type": "code",
   "execution_count": 44,
   "id": "5eeeaad1",
   "metadata": {},
   "outputs": [],
   "source": [
    "daily_sales_number = [21,31,-13,43,12,15,13,75]"
   ]
  },
  {
   "cell_type": "code",
   "execution_count": 45,
   "id": "a705f449",
   "metadata": {},
   "outputs": [
    {
     "data": {
      "text/plain": [
       "<TensorSliceDataset element_spec=TensorSpec(shape=(), dtype=tf.int32, name=None)>"
      ]
     },
     "execution_count": 45,
     "metadata": {},
     "output_type": "execute_result"
    }
   ],
   "source": [
    "tf_dataset = tf.data.Dataset.from_tensor_slices(daily_sales_number)\n",
    "tf_dataset"
   ]
  },
  {
   "cell_type": "code",
   "execution_count": 46,
   "id": "22955a2e",
   "metadata": {},
   "outputs": [
    {
     "name": "stdout",
     "output_type": "stream",
     "text": [
      "21\n",
      "31\n",
      "-13\n",
      "43\n",
      "12\n",
      "15\n",
      "13\n",
      "75\n"
     ]
    }
   ],
   "source": [
    "for sales in tf_dataset :\n",
    "    print(sales.numpy())"
   ]
  },
  {
   "cell_type": "code",
   "execution_count": 47,
   "id": "ef6a3a4b",
   "metadata": {},
   "outputs": [],
   "source": [
    "#sales numbers cannot be -ve\n",
    "tf_dataset_filtered = tf_dataset.filter(lambda x : x > 0)"
   ]
  },
  {
   "cell_type": "code",
   "execution_count": 48,
   "id": "fe268227",
   "metadata": {},
   "outputs": [
    {
     "name": "stdout",
     "output_type": "stream",
     "text": [
      "21\n",
      "31\n",
      "43\n",
      "12\n",
      "15\n",
      "13\n",
      "75\n"
     ]
    }
   ],
   "source": [
    "for sales in tf_dataset_filtered :\n",
    "    print(sales.numpy())"
   ]
  },
  {
   "cell_type": "code",
   "execution_count": 49,
   "id": "705f34d5",
   "metadata": {},
   "outputs": [
    {
     "name": "stdout",
     "output_type": "stream",
     "text": [
      "1722\n",
      "2542\n",
      "3526\n",
      "984\n",
      "1230\n",
      "1066\n",
      "6150\n"
     ]
    }
   ],
   "source": [
    "tf_dataset_filtered = tf_dataset_filtered.map(lambda x : x * 82) #to convert to rs\n",
    "for sales in tf_dataset_filtered :\n",
    "    print(sales.numpy())"
   ]
  },
  {
   "cell_type": "code",
   "execution_count": 50,
   "id": "846ee54c",
   "metadata": {},
   "outputs": [
    {
     "name": "stdout",
     "output_type": "stream",
     "text": [
      "[1722 2542]\n",
      "[3526  984]\n",
      "[1230 1066]\n",
      "[6150]\n"
     ]
    }
   ],
   "source": [
    "for sales_batch in tf_dataset_filtered.batch(2) : #doing batching because in my project will probably have to use batching for training\n",
    "    print(sales_batch.numpy())"
   ]
  },
  {
   "cell_type": "code",
   "execution_count": 51,
   "id": "83cb2dc5",
   "metadata": {},
   "outputs": [
    {
     "name": "stdout",
     "output_type": "stream",
     "text": [
      "[2542 3526]\n",
      "[ 984 1722]\n",
      "[1066 1230]\n",
      "[6150]\n"
     ]
    }
   ],
   "source": [
    "## combining everything together\n",
    "tf_dataset = tf_dataset.filter(lambda x : x > 0).map(lambda y : y * 82).shuffle(2).batch(2)\n",
    "for sales in tf_dataset :\n",
    "    print(sales.numpy())"
   ]
  },
  {
   "cell_type": "code",
   "execution_count": null,
   "id": "19c941ad",
   "metadata": {},
   "outputs": [],
   "source": []
  },
  {
   "cell_type": "code",
   "execution_count": null,
   "id": "73d39bcb",
   "metadata": {},
   "outputs": [],
   "source": []
  }
 ],
 "metadata": {
  "kernelspec": {
   "display_name": "Python 3 (ipykernel)",
   "language": "python",
   "name": "python3"
  },
  "language_info": {
   "codemirror_mode": {
    "name": "ipython",
    "version": 3
   },
   "file_extension": ".py",
   "mimetype": "text/x-python",
   "name": "python",
   "nbconvert_exporter": "python",
   "pygments_lexer": "ipython3",
   "version": "3.9.12"
  }
 },
 "nbformat": 4,
 "nbformat_minor": 5
}
